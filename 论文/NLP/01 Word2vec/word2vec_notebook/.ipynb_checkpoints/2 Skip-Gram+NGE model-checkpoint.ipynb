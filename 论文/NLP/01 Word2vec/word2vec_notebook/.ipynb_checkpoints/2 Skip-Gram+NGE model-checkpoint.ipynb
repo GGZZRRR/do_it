{
 "cells": [
  {
   "cell_type": "code",
   "execution_count": 1,
   "metadata": {},
   "outputs": [],
   "source": [
    "import torch\n",
    "import torch.nn as nn\n",
    "import torch.nn.functional as F"
   ]
  },
  {
   "cell_type": "code",
   "execution_count": 4,
   "metadata": {},
   "outputs": [],
   "source": [
    "class SkipGramModel(nn.Module):\n",
    "    # embed_size是词表大小，embed_dimension是词向量维度\n",
    "    def __init__(self,embed_size,embed_dimension):\n",
    "        super(SkipGramModel,self).__init__()\n",
    "        self.embed_size = embed_size\n",
    "        self.embed_dimension = embed_dimension\n",
    "        self.w_embeddings = nn.Embedding(embed_size,embed_dimension,sparse=True)\n",
    "        self.v_embeddings = nn.Embedding(embed_size, embed_dimension, sparse=True) \n",
    "        self._init_emb()\n",
    "\n",
    "    #官方代码中的初始化方法\n",
    "    def _init_emb(self):\n",
    "        initrange = 0.5 / self.embed_dimension\n",
    "        self.w_embeddings.weight.data.uniform_(-initrange, initrange)# 这是个正态分布，中心词\n",
    "        self.v_embeddings.weight.data.uniform_(-0, 0)#这个是周围词\n",
    "\n",
    "    def forward(self, pos_w, pos_v, neg_v):\n",
    "        #这个是中心词的词向量，pos_w是batch_size*1大小的词向量\n",
    "        emb_w = self.w_embeddings(torch.LongTensor(pos_w).cuda())  # 转为tensor 大小 [ mini_batch_size * emb_dimension ]\n",
    "        #这是周围词\n",
    "        emb_v = self.v_embeddings(torch.LongTensor(pos_v).cuda())\n",
    "        #这是负样本\n",
    "        neg_emb_v = self.v_embeddings(torch.LongTensor(neg_v).cuda())  # 转换后大小 [ mini_batch_size * negative_sampling_number * emb_dimension ]\n",
    "        score = torch.mul(emb_w, emb_v).squeeze()\n",
    "\n",
    "        score = torch.sum(score, dim=1)\n",
    "        score = torch.clamp(score, max=10, min=-10)\n",
    "        score = F.logsigmoid(score)\n",
    "\n",
    "        neg_score = torch.bmm(neg_emb_v, emb_w.unsqueeze(2)).squeeze() #增加了一个维度\n",
    "        neg_score = torch.clamp(neg_score, max=10, min=-10)\n",
    "        neg_score = F.logsigmoid(-1 * neg_score)\n",
    "        # L = log sigmoid (Xw.T * θv) + ∑neg(v) [log sigmoid (-Xw.T * θneg(v))]\n",
    "        loss = - torch.sum(score) - torch.sum(neg_score)\n",
    "        return loss\n",
    "\n",
    "    def save_embedding(self, id2word, file_name):\n",
    "        embedding_1 = self.w_embeddings.weight.data.cpu().numpy()\n",
    "        embedding_2 = self.v_embeddings.weight.data.cpu().numpy()\n",
    "        embedding = (embedding_1+embedding_2)/2\n",
    "        fout = open(file_name, 'w')\n",
    "        fout.write('%d %d\\n' % (len(id2word), self.embed_dimension))\n",
    "        for wid, w in id2word.items():\n",
    "            e = embedding[wid]\n",
    "            e = ' '.join(map(lambda x: str(x), e))\n",
    "            fout.write('%s %s\\n' % (w, e))"
   ]
  },
  {
   "cell_type": "code",
   "execution_count": 6,
   "metadata": {},
   "outputs": [
    {
     "data": {
      "text/plain": [
       "tensor(13.8629, grad_fn=<MulBackward0>)"
      ]
     },
     "execution_count": 6,
     "metadata": {},
     "output_type": "execute_result"
    }
   ],
   "source": [
    "model = SkipGramModel(100, 10)\n",
    "id2word = dict()\n",
    "for i in range(100):\n",
    "    id2word[i] = str(i)\n",
    "pos_w = [0, 0, 1, 1, 1]\n",
    "pos_v = [1, 2, 0, 2, 3]\n",
    "neg_v = [[23, 42, 32], [32, 24, 53], [32, 24, 53], [32, 24, 53], [32, 24, 53]]\n",
    "model.forward(pos_w, pos_v, neg_v)\n"
   ]
  },
  {
   "cell_type": "code",
   "execution_count": 9,
   "metadata": {},
   "outputs": [
    {
     "data": {
      "text/plain": [
       "(100, 10)"
      ]
     },
     "execution_count": 9,
     "metadata": {},
     "output_type": "execute_result"
    }
   ],
   "source": [
    "model.w_embeddings.weight.data.cpu().numpy().shape"
   ]
  },
  {
   "cell_type": "code",
   "execution_count": null,
   "metadata": {},
   "outputs": [],
   "source": []
  }
 ],
 "metadata": {
  "kernelspec": {
   "display_name": "Python 3",
   "language": "python",
   "name": "python3"
  },
  "language_info": {
   "codemirror_mode": {
    "name": "ipython",
    "version": 3
   },
   "file_extension": ".py",
   "mimetype": "text/x-python",
   "name": "python",
   "nbconvert_exporter": "python",
   "pygments_lexer": "ipython3",
   "version": "3.8.5"
  }
 },
 "nbformat": 4,
 "nbformat_minor": 2
}
